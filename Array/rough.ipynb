{
 "cells": [
  {
   "cell_type": "markdown",
   "id": "2371659c",
   "metadata": {},
   "source": [
    "Move all Zeros to End of Array"
   ]
  },
  {
   "cell_type": "code",
   "execution_count": 6,
   "id": "c796ba44",
   "metadata": {},
   "outputs": [
    {
     "name": "stdout",
     "output_type": "stream",
     "text": [
      "[3, 5, 4, 0, 0]\n"
     ]
    }
   ],
   "source": [
    "def ZeroToEndOfArray(arr):\n",
    "    count = 0\n",
    "    new_arr = []\n",
    "    for i in arr:\n",
    "        if i != 0:\n",
    "            new_arr.append(i)\n",
    "        else:\n",
    "            count +=1\n",
    "    \n",
    "    return new_arr+count*[0]\n",
    "\n",
    "arr = [3,5,0,0,4]\n",
    "print(ZeroToEndOfArray(arr))"
   ]
  },
  {
   "cell_type": "code",
   "execution_count": 3,
   "id": "2d83e9fd",
   "metadata": {},
   "outputs": [
    {
     "name": "stdout",
     "output_type": "stream",
     "text": [
      "[3, 5, 4, 0, 0]\n"
     ]
    }
   ],
   "source": [
    "def ZeroToEndOfArray(arr):\n",
    "    left = 0\n",
    "    for right in range(len(arr)):\n",
    "        if arr[right] != 0:\n",
    "            arr[left],arr[right] = arr[right],arr[left]\n",
    "            left += 1\n",
    "    return arr\n",
    "\n",
    "arr = [3,5,0,0,4]\n",
    "print(ZeroToEndOfArray(arr))"
   ]
  },
  {
   "cell_type": "code",
   "execution_count": 1,
   "id": "5eb23683",
   "metadata": {},
   "outputs": [
    {
     "name": "stdout",
     "output_type": "stream",
     "text": [
      "[35, 1, 34, 10, 1, 35, 12]\n"
     ]
    }
   ],
   "source": [
    "def ReversedArray(arr):\n",
    "    return [arr[i] for i in range(len(arr)-1,-1,-1)]\n",
    "\n",
    "arr = [12, 35, 1, 10, 34, 1,35]\n",
    "print(ReversedArray(arr))"
   ]
  },
  {
   "cell_type": "code",
   "execution_count": 2,
   "id": "9d918d23",
   "metadata": {},
   "outputs": [
    {
     "name": "stdout",
     "output_type": "stream",
     "text": [
      "[16, 35, 1, 10, 34, 1, 12]\n",
      "[16, 1, 1, 10, 34, 35, 12]\n",
      "[16, 1, 34, 10, 1, 35, 12]\n",
      "[16, 1, 34, 10, 1, 35, 12]\n"
     ]
    }
   ],
   "source": [
    "def ReversedArray(arr):\n",
    "    n = len(arr)\n",
    "    left = 0\n",
    "    right = len(arr)-1\n",
    "    for i in range(n//2):\n",
    "        arr[left],arr[right] = arr[right],arr[left]\n",
    "        left += 1\n",
    "        right -=1\n",
    "        print(arr)\n",
    "    return arr\n",
    "\n",
    "arr = [12, 35, 1, 10, 34, 1,16]\n",
    "print(ReversedArray(arr))"
   ]
  },
  {
   "cell_type": "code",
   "execution_count": 40,
   "id": "f84b283e",
   "metadata": {},
   "outputs": [
    {
     "name": "stdout",
     "output_type": "stream",
     "text": [
      "[1, 7, 9, 7]\n"
     ]
    }
   ],
   "source": [
    "def RotateArray(arr,d):\n",
    "    n = len(arr)\n",
    "    \n",
    "    if d>=n:\n",
    "        d = d%n\n",
    "    if d==0 or d==n:\n",
    "        return arr\n",
    "    else:\n",
    "        for i in range(d):\n",
    "            arr += [arr[i]]\n",
    "            arr.pop(0)\n",
    "        return arr\n",
    "\n",
    "arr = [7,3,9,1]\n",
    "d = 3\n",
    "\n",
    "print(RotateArray(arr,d))\n",
    "    \n"
   ]
  },
  {
   "cell_type": "code",
   "execution_count": null,
   "id": "eb406f35",
   "metadata": {},
   "outputs": [],
   "source": [
    "arr.pop()"
   ]
  }
 ],
 "metadata": {
  "kernelspec": {
   "display_name": "Python 3",
   "language": "python",
   "name": "python3"
  },
  "language_info": {
   "codemirror_mode": {
    "name": "ipython",
    "version": 3
   },
   "file_extension": ".py",
   "mimetype": "text/x-python",
   "name": "python",
   "nbconvert_exporter": "python",
   "pygments_lexer": "ipython3",
   "version": "3.13.3"
  }
 },
 "nbformat": 4,
 "nbformat_minor": 5
}
