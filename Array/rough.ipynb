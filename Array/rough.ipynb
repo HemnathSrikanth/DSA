{
 "cells": [
  {
   "cell_type": "markdown",
   "id": "2371659c",
   "metadata": {},
   "source": [
    "Move all Zeros to End of Array"
   ]
  },
  {
   "cell_type": "code",
   "execution_count": 6,
   "id": "c796ba44",
   "metadata": {},
   "outputs": [
    {
     "name": "stdout",
     "output_type": "stream",
     "text": [
      "[3, 5, 4, 0, 0]\n"
     ]
    }
   ],
   "source": [
    "def ZeroToEndOfArray(arr):\n",
    "    count = 0\n",
    "    new_arr = []\n",
    "    for i in arr:\n",
    "        if i != 0:\n",
    "            new_arr.append(i)\n",
    "        else:\n",
    "            count +=1\n",
    "    \n",
    "    return new_arr+count*[0]\n",
    "\n",
    "arr = [3,5,0,0,4]\n",
    "print(ZeroToEndOfArray(arr))"
   ]
  },
  {
   "cell_type": "code",
   "execution_count": 3,
   "id": "2d83e9fd",
   "metadata": {},
   "outputs": [
    {
     "name": "stdout",
     "output_type": "stream",
     "text": [
      "[3, 5, 4, 0, 0]\n"
     ]
    }
   ],
   "source": [
    "def ZeroToEndOfArray(arr):\n",
    "    left = 0\n",
    "    for right in range(len(arr)):\n",
    "        if arr[right] != 0:\n",
    "            arr[left],arr[right] = arr[right],arr[left]\n",
    "            left += 1\n",
    "    return arr\n",
    "\n",
    "arr = [3,5,0,0,4]\n",
    "print(ZeroToEndOfArray(arr))"
   ]
  }
 ],
 "metadata": {
  "kernelspec": {
   "display_name": "Python 3",
   "language": "python",
   "name": "python3"
  },
  "language_info": {
   "codemirror_mode": {
    "name": "ipython",
    "version": 3
   },
   "file_extension": ".py",
   "mimetype": "text/x-python",
   "name": "python",
   "nbconvert_exporter": "python",
   "pygments_lexer": "ipython3",
   "version": "3.13.3"
  }
 },
 "nbformat": 4,
 "nbformat_minor": 5
}
