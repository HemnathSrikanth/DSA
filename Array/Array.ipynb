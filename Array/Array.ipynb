{
 "cells": [
  {
   "cell_type": "markdown",
   "id": "1dc038e9",
   "metadata": {},
   "source": [
    "### Second Largest"
   ]
  },
  {
   "cell_type": "code",
   "execution_count": null,
   "id": "2104d633",
   "metadata": {},
   "outputs": [
    {
     "name": "stdout",
     "output_type": "stream",
     "text": [
      "34\n"
     ]
    }
   ],
   "source": [
    "def second_largest(arr):\n",
    "    n = len(arr)\n",
    "    \n",
    "    if n<2:\n",
    "        return -1\n",
    "\n",
    "    first = second = float(\"-inf\")\n",
    "    \n",
    "    for num in arr:\n",
    "        if num > first:\n",
    "            second = first\n",
    "            first = num\n",
    "        elif num > second and num != first:\n",
    "            second = num\n",
    "    \n",
    "    if second == float(\"-inf\"):\n",
    "        return -1\n",
    "    else:\n",
    "        return second\n",
    "\n",
    "arr = [12, 35, 1, 10, 34, 1,35]\n",
    "print(second_largest(arr))\n"
   ]
  },
  {
   "cell_type": "markdown",
   "id": "edc856e7",
   "metadata": {},
   "source": [
    "### Move all Zeros to End of Array"
   ]
  },
  {
   "cell_type": "code",
   "execution_count": 5,
   "id": "ac45bb84",
   "metadata": {},
   "outputs": [
    {
     "name": "stdout",
     "output_type": "stream",
     "text": [
      "[3, 5, 4, 0, 0]\n"
     ]
    }
   ],
   "source": [
    "def MoveZerosToEnd(arr):\n",
    "    n = len(arr)\n",
    "    left = 0\n",
    "    for right in range(n):\n",
    "        if arr[right] != 0:\n",
    "            arr[left],arr[right] = arr[right],arr[left]\n",
    "            left += 1\n",
    "    return arr\n",
    "\n",
    "arr = [3,5,0,0,4]\n",
    "print(MoveZerosToEnd(arr))"
   ]
  },
  {
   "cell_type": "markdown",
   "id": "b22943dc",
   "metadata": {},
   "source": [
    "### Array - Reverse"
   ]
  },
  {
   "cell_type": "code",
   "execution_count": 2,
   "id": "69bdff00",
   "metadata": {},
   "outputs": [
    {
     "name": "stdout",
     "output_type": "stream",
     "text": [
      "[16, 1, 34, 10, 1, 35, 12]\n"
     ]
    }
   ],
   "source": [
    "def ReversedArray(arr):\n",
    "    n = len(arr)\n",
    "    for i in range(n//2):\n",
    "        arr[i],arr[n-i-1] = arr[n-i-1],arr[i]\n",
    "    return arr\n",
    "\n",
    "arr = [12, 35, 1, 10, 34, 1,16]\n",
    "print(ReversedArray(arr))"
   ]
  },
  {
   "cell_type": "markdown",
   "id": "9d0c7b7e",
   "metadata": {},
   "source": [
    "### Array - Rotate"
   ]
  },
  {
   "cell_type": "code",
   "execution_count": 1,
   "id": "133ece28",
   "metadata": {},
   "outputs": [
    {
     "name": "stdout",
     "output_type": "stream",
     "text": [
      "3 4 5 6 1 2 "
     ]
    }
   ],
   "source": [
    "def rotateArr(arr, d):\n",
    "    \n",
    "    n = len(arr)\n",
    "    d %= n\n",
    "    temp = [0] * n\n",
    "\n",
    "    for i in range(n - d):\n",
    "        temp[i] = arr[d + i]\n",
    "\n",
    "    for i in range(d):\n",
    "        temp[n - d + i] = arr[i]\n",
    "\n",
    "    for i in range(n):\n",
    "        arr[i] = temp[i]\n",
    "\n",
    "arr = [1, 2, 3, 4, 5, 6]\n",
    "d = 2\n",
    "rotateArr(arr, d)\n",
    "\n",
    "# Print the rotated array\n",
    "for i in range(len(arr)):\n",
    "    print(arr[i], end=\" \")"
   ]
  }
 ],
 "metadata": {
  "kernelspec": {
   "display_name": "Python 3",
   "language": "python",
   "name": "python3"
  },
  "language_info": {
   "codemirror_mode": {
    "name": "ipython",
    "version": 3
   },
   "file_extension": ".py",
   "mimetype": "text/x-python",
   "name": "python",
   "nbconvert_exporter": "python",
   "pygments_lexer": "ipython3",
   "version": "3.13.3"
  }
 },
 "nbformat": 4,
 "nbformat_minor": 5
}
