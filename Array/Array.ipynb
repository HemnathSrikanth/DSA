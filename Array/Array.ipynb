{
 "cells": [
  {
   "cell_type": "markdown",
   "id": "1dc038e9",
   "metadata": {},
   "source": [
    "### Second Largest"
   ]
  },
  {
   "cell_type": "code",
   "execution_count": 6,
   "id": "2104d633",
   "metadata": {},
   "outputs": [
    {
     "name": "stdout",
     "output_type": "stream",
     "text": [
      "34\n"
     ]
    }
   ],
   "source": [
    "def second_largest(arr):\n",
    "    n = len(arr)\n",
    "    \n",
    "    if n<2:\n",
    "        return -1\n",
    "\n",
    "    first = second = float(\"-inf\")\n",
    "    \n",
    "    for num in arr:\n",
    "        if num > first:\n",
    "            second = first\n",
    "            first = num\n",
    "        elif num > second and num != first:\n",
    "            second = num\n",
    "    \n",
    "    if second == float(\"-inf\"):\n",
    "        return -1\n",
    "    else:\n",
    "        return second\n",
    "\n",
    "arr = [12, 35, 1, 10, 34, 1,35]\n",
    "print(second_largest(arr))\n",
    "\n",
    "#Revise this before going to bed"
   ]
  }
 ],
 "metadata": {
  "kernelspec": {
   "display_name": "Python 3",
   "language": "python",
   "name": "python3"
  },
  "language_info": {
   "codemirror_mode": {
    "name": "ipython",
    "version": 3
   },
   "file_extension": ".py",
   "mimetype": "text/x-python",
   "name": "python",
   "nbconvert_exporter": "python",
   "pygments_lexer": "ipython3",
   "version": "3.13.3"
  }
 },
 "nbformat": 4,
 "nbformat_minor": 5
}
